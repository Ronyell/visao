{
 "cells": [
  {
   "cell_type": "code",
   "execution_count": 16,
   "metadata": {
    "scrolled": true
   },
   "outputs": [
    {
     "name": "stdout",
     "output_type": "stream",
     "text": [
      "5 4 4\n",
      "[(0.0, '5'), (0.003137919348867317, '4'), (0.003164571683441901, '4'), (0.005867960779199206, '5'), (0.013580210230009333, '5'), (0.019177111259381513, '4'), (0.03989904040150058, '1'), (0.04239980823810529, '1'), (0.055031796518935354, '1'), (0.05570191911699822, '2'), (0.05858286501874866, '2'), (0.06572608058459944, '2'), (1.2726521114196752, '3'), (1.27686067892424, '3'), (1.2840775061745628, '3')]\n"
     ]
    },
    {
     "ename": "StatisticsError",
     "evalue": "no unique mode; found 2 equally common values",
     "output_type": "error",
     "traceback": [
      "\u001b[0;31m---------------------------------------------------------------------------\u001b[0m",
      "\u001b[0;31mStatisticsError\u001b[0m                           Traceback (most recent call last)",
      "\u001b[0;32m<ipython-input-16-7b3eeafd4fc4>\u001b[0m in \u001b[0;36m<module>\u001b[0;34m\u001b[0m\n\u001b[1;32m     69\u001b[0m \u001b[0;34m\u001b[0m\u001b[0m\n\u001b[1;32m     70\u001b[0m \u001b[0mprint\u001b[0m\u001b[0;34m(\u001b[0m\u001b[0me\u001b[0m\u001b[0;34m)\u001b[0m\u001b[0;34m\u001b[0m\u001b[0;34m\u001b[0m\u001b[0m\n\u001b[0;32m---> 71\u001b[0;31m \u001b[0ma\u001b[0m \u001b[0;34m=\u001b[0m \u001b[0mmode\u001b[0m\u001b[0;34m(\u001b[0m\u001b[0;34m[\u001b[0m\u001b[0mk1\u001b[0m\u001b[0;34m,\u001b[0m\u001b[0mk2\u001b[0m\u001b[0;34m,\u001b[0m\u001b[0mk3\u001b[0m\u001b[0;34m,\u001b[0m \u001b[0mk1\u001b[0m\u001b[0;34m]\u001b[0m\u001b[0;34m)\u001b[0m\u001b[0;34m\u001b[0m\u001b[0;34m\u001b[0m\u001b[0m\n\u001b[0m\u001b[1;32m     72\u001b[0m \u001b[0mprint\u001b[0m\u001b[0;34m(\u001b[0m\u001b[0;34m\"classe final: \"\u001b[0m\u001b[0;34m,\u001b[0m \u001b[0ma\u001b[0m\u001b[0;34m)\u001b[0m\u001b[0;34m\u001b[0m\u001b[0;34m\u001b[0m\u001b[0m\n",
      "\u001b[0;32m/usr/lib/python3.7/statistics.py\u001b[0m in \u001b[0;36mmode\u001b[0;34m(data)\u001b[0m\n\u001b[1;32m    504\u001b[0m     \u001b[0;32melif\u001b[0m \u001b[0mtable\u001b[0m\u001b[0;34m:\u001b[0m\u001b[0;34m\u001b[0m\u001b[0;34m\u001b[0m\u001b[0m\n\u001b[1;32m    505\u001b[0m         raise StatisticsError(\n\u001b[0;32m--> 506\u001b[0;31m                 \u001b[0;34m'no unique mode; found %d equally common values'\u001b[0m \u001b[0;34m%\u001b[0m \u001b[0mlen\u001b[0m\u001b[0;34m(\u001b[0m\u001b[0mtable\u001b[0m\u001b[0;34m)\u001b[0m\u001b[0;34m\u001b[0m\u001b[0;34m\u001b[0m\u001b[0m\n\u001b[0m\u001b[1;32m    507\u001b[0m                 )\n\u001b[1;32m    508\u001b[0m     \u001b[0;32melse\u001b[0m\u001b[0;34m:\u001b[0m\u001b[0;34m\u001b[0m\u001b[0;34m\u001b[0m\u001b[0m\n",
      "\u001b[0;31mStatisticsError\u001b[0m: no unique mode; found 2 equally common values"
     ]
    }
   ],
   "source": [
    "import cv2\n",
    "import numpy as np\n",
    "import matplotlib.pyplot as plt\n",
    "import os\n",
    "from statistics import mode\n",
    "\n",
    "def distancia(a, b):\n",
    "    M = len(a)\n",
    "    soma = 0\n",
    "    for i in range(M):\n",
    "        soma = soma + ((a[i]-b[i])**2)\n",
    "    return np.sqrt(soma) \n",
    "    \n",
    "def extrair_caracteristica(img):\n",
    "    qtdeVerde = 0\n",
    "    qtdeAzul = 0\n",
    "    qtdeVermelho = 0\n",
    "    \n",
    "    qtdeLinhas, qtdeColunas, c = img.shape\n",
    "    \n",
    "    \n",
    "    for i in range(qtdeLinhas):\n",
    "        for j in range(qtdeColunas):\n",
    "            if(img[i,j,1] > img[i, j, 0] and img[i,j,1] > img[i, j, 2]):\n",
    "                qtdeVerde +=1\n",
    "            elif(img[i,j,2] > img[i, j, 0] and img[i,j,2] > img[i, j, 1]):\n",
    "                qtdeVermelho +=1\n",
    "            if(img[i,j,0] > img[i, j, 1] and img[i,j,0] > img[i, j, 2]):\n",
    "                qtdeAzul +=1\n",
    "    \n",
    "    qtdeVerde2 = qtdeVerde/(qtdeVerde + qtdeAzul + qtdeVermelho)\n",
    "    qtdeAzul2 = qtdeAzul/(qtdeVerde + qtdeAzul + qtdeVermelho)\n",
    "    qtdeVermelho2 = qtdeVermelho/(qtdeVerde + qtdeAzul + qtdeVermelho)\n",
    "\n",
    "    return np.append(np.append(qtdeVerde2, qtdeVermelho2), qtdeAzul2)\n",
    "    \n",
    "files_path = [os.path.abspath(x) for x in os.listdir('./') if x.endswith('.jpg')]\n",
    "\n",
    "base_teste = []\n",
    "\n",
    "#extraindo as características das imagens na base de dados\n",
    "for i in files_path:\n",
    "    diretorio, arquivo = os.path.split(i)\n",
    "    imagem = cv2.imread(arquivo)\n",
    "    carac = extrair_caracteristica(imagem)\n",
    "    classe = arquivo.split('-')\n",
    "    base_teste.append((carac, classe[0]))   \n",
    "    \n",
    "    \n",
    "img = cv2.imread('5-2.jpg')\n",
    "vetor_consulta = extrair_caracteristica(img)    \n",
    "    \n",
    "#calculando a distancia do vetor de características da imagem consulta com todos\n",
    "# os vetores de características extraidos das imagens que estão na base de dados\n",
    "d = []\n",
    "\n",
    "for feat in base_teste:\n",
    "    vetor = feat[0]\n",
    "    dist = distancia(vetor, vetor_consulta)\n",
    "    d.append((dist, feat[1])) \n",
    "    \n",
    "e = sorted(d)\n",
    "\n",
    "k1 = e[0][1]\n",
    "k2 = e[1][1]\n",
    "k3 = e[2][1]\n",
    "k4 = e[3][1]\n",
    "print(k1, k2, k3)\n",
    "\n",
    "print(e)\n",
    "a = mode([k1,k2,k3, k1])\n",
    "print(\"classe final: \", a)"
   ]
  },
  {
   "cell_type": "code",
   "execution_count": null,
   "metadata": {},
   "outputs": [],
   "source": []
  }
 ],
 "metadata": {
  "kernelspec": {
   "display_name": "Python 3",
   "language": "python",
   "name": "python3"
  },
  "language_info": {
   "codemirror_mode": {
    "name": "ipython",
    "version": 3
   },
   "file_extension": ".py",
   "mimetype": "text/x-python",
   "name": "python",
   "nbconvert_exporter": "python",
   "pygments_lexer": "ipython3",
   "version": "3.7.2"
  }
 },
 "nbformat": 4,
 "nbformat_minor": 2
}
